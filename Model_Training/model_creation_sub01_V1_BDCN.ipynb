{
 "cells": [
  {
   "cell_type": "code",
   "execution_count": 232,
   "metadata": {},
   "outputs": [
    {
     "name": "stdout",
     "output_type": "stream",
     "text": [
      "CUDA available: True\n"
     ]
    }
   ],
   "source": [
    "import torch\n",
    "import numpy as np\n",
    "from torch.utils.data import TensorDataset, DataLoader\n",
    "import os\n",
    "import timm\n",
    "from tqdm.notebook import tqdm\n",
    "import torch.nn as nn\n",
    "import matplotlib.pyplot as plt\n",
    "\n",
    "#define variables specific to this model\n",
    "subject = 'sub01'\n",
    "roi = 'V1'\n",
    "preprocessing = 'BDCN'\n",
    "model_name = 'model_weights_{}_{}_{}'.format(subject, roi, preprocessing)\n",
    "input_data_dims = (32,32,75)\n",
    "input_channels = input_data_dims[2]\n",
    "\n",
    "\n",
    "# define global variables / hyperparameters\n",
    "batch_size = 64\n",
    "num_epochs = 30\n",
    "learning_rate = 0.001\n",
    "\n",
    "# detect if GPU/CPU device\n",
    "use_cuda = torch.cuda.is_available()\n",
    "print('CUDA available:', use_cuda)\n",
    "\n",
    "# set RNG seed for reproducibility\n",
    "seed = 1\n",
    "torch.manual_seed(seed)\n",
    "np.random.seed(seed)\n",
    "\n",
    "# setup gpu things\n",
    "dtype = 'float32' if use_cuda else 'float64' # GPU does better with float32 numbers\n",
    "torchtype = {'float32': torch.float32, 'float64': torch.float64}[dtype]\n",
    "device = torch.device(\"cuda:0\" if torch.cuda.is_available() else \"cpu\")\n",
    "\n",
    "# flush out the cache\n",
    "torch.cuda.empty_cache()"
   ]
  },
  {
   "cell_type": "code",
   "execution_count": 233,
   "metadata": {},
   "outputs": [
    {
     "name": "stdout",
     "output_type": "stream",
     "text": [
      "Number of training samples:  768\n",
      "Number of voxel activations (classes):  232\n",
      "Value range of labels:  0.0 1.0\n",
      "training_data tensor dims: torch.Size([768, 75, 32, 32])\n"
     ]
    }
   ],
   "source": [
    "# Training a RNN with PyTorch for roi V1 with RAW data\n",
    "\n",
    "# Load the entire training data into main memory\n",
    "# This is a huge dataset, so we need to do this in chunks\n",
    "\n",
    "#isolate subject of interests' data\n",
    "num_subjects = 10\n",
    "soi = subject\n",
    "\n",
    "# read in every npy file in the directory Gunners_training_data/V1/RAW and store them in a list \n",
    "training_data = []\n",
    "training_labels = []\n",
    "\n",
    "# load in every Nth file in the directory\n",
    "culling_scale = 1\n",
    "\n",
    "# for each file in the directory\n",
    "for i, file in enumerate(os.listdir('../Gunners_training_data/{}/{}'.format(roi, preprocessing))):\n",
    "    # if the file name contains the soi string\n",
    "    if not soi in file:\n",
    "        continue\n",
    "    # if the file is a .npy file\n",
    "    if file.endswith('.npy'):\n",
    "        # read in the file\n",
    "        data = np.load('../Gunners_training_data/{}/{}/'.format(roi,preprocessing) + file, allow_pickle=True)\n",
    "        \n",
    "        # for each sample, make sure its dimensions are 32x32x225, if not then skip it\n",
    "        if data[0][0].shape != input_data_dims:\n",
    "            continue\n",
    "\n",
    "        # for each sample, add the data to the training_data list\n",
    "        training_data.append(data[0][0])\n",
    "        # for each sample, add the label to the training_labels list\n",
    "        training_labels.append(data[0][1])\n",
    "\n",
    "print('Number of training samples: ', len(training_data))\n",
    "num_classes = training_labels[0].shape[0]\n",
    "print('Number of voxel activations (classes): ', num_classes)\n",
    "\n",
    "#normalize all labels to be between -1 and 1\n",
    "training_labels = np.array(training_labels)\n",
    "training_labels = (training_labels - np.min(training_labels)) / (np.max(training_labels) - np.min(training_labels))\n",
    "#print the value range of the labels\n",
    "print('Value range of labels: ', np.min(training_labels), np.max(training_labels))\n",
    "    \n",
    "# verify the data is loaded correctly\n",
    "training_data = np.array(training_data)\n",
    "training_labels = np.array(training_labels)\n",
    "\n",
    "# convert the lists to float 32 tensors\n",
    "training_data = torch.tensor(training_data).type(torchtype)\n",
    "training_labels = torch.tensor(training_labels).type(torchtype)\n",
    "\n",
    "# permute the data so that the first dimension is the number of samples, the second is the number of channels\n",
    "training_data = training_data.permute(0,3,1,2)\n",
    "\n",
    "#print the dims of training_data tensor\n",
    "print('training_data tensor dims:', training_data.shape)\n",
    "\n",
    "# create a dataset from the tensors\n",
    "my_dataset = TensorDataset(training_data,training_labels) # create your datset\n",
    "\n",
    "# split the data into training and validation sets\n",
    "train_size = int(0.8 * len(training_data))\n",
    "valid_size = len(training_data) - train_size\n",
    "\n",
    "# create training and validation sets\n",
    "train_data, valid_data = torch.utils.data.random_split(my_dataset, [train_size, valid_size])\n",
    "\n",
    "# create training and validation dataloaders\n",
    "train_loader = DataLoader(train_data, batch_size = batch_size, shuffle=True)\n",
    "valid_loader = DataLoader(valid_data, batch_size = batch_size, shuffle=False)\n"
   ]
  },
  {
   "cell_type": "code",
   "execution_count": 234,
   "metadata": {},
   "outputs": [],
   "source": [
    "# create a loss function that is 1 - the correlation coefficient\n",
    "def corrcoef_loss_function(output, target):\n",
    "    x = output\n",
    "    y = target\n",
    "\n",
    "    vx = x - torch.mean(x)\n",
    "    vy = y - torch.mean(y)\n",
    "\n",
    "    cost = torch.sum(vx * vy) / (torch.sqrt(torch.sum(vx ** 2)) * torch.sqrt(torch.sum(vy ** 2)))\n",
    "    # mse_loss = torch.mean((output - target) ** 2)\n",
    "    return (1 - cost)**3\n",
    "\n"
   ]
  },
  {
   "cell_type": "code",
   "execution_count": 247,
   "metadata": {},
   "outputs": [],
   "source": [
    "# define RNN model with 255 channels\n",
    "model = timm.create_model('densenet121', num_classes=num_classes, in_chans=input_channels, pretrained=False).to(device)\n",
    "\n",
    "# make the model use floats\n",
    "model.float()\n",
    "\n",
    "# define optimizer\n",
    "optimizer = torch.optim.Adam(model.parameters(), lr=learning_rate)\n",
    "\n",
    "# scheduler for Learning Rate\n",
    "scheduler = torch.optim.lr_scheduler.ReduceLROnPlateau(optimizer, 'min', patience=2, verbose=True)\n",
    "\n",
    "# define loss function for multi-variable regression\n",
    "loss_fn = corrcoef_loss_function\n"
   ]
  },
  {
   "cell_type": "code",
   "execution_count": 248,
   "metadata": {},
   "outputs": [
    {
     "data": {
      "application/vnd.jupyter.widget-view+json": {
       "model_id": "6d327f9a2eb64761875fbede076bc233",
       "version_major": 2,
       "version_minor": 0
      },
      "text/plain": [
       "  0%|          | 0/30 [00:00<?, ?it/s]"
      ]
     },
     "metadata": {},
     "output_type": "display_data"
    },
    {
     "name": "stdout",
     "output_type": "stream",
     "text": [
      "Epoch     7: reducing learning rate of group 0 to 1.0000e-04.\n",
      "Epoch    10: reducing learning rate of group 0 to 1.0000e-05.\n",
      "Epoch    13: reducing learning rate of group 0 to 1.0000e-06.\n",
      "Epoch    16: reducing learning rate of group 0 to 1.0000e-07.\n",
      "Epoch    19: reducing learning rate of group 0 to 1.0000e-08.\n",
      "Best validation loss:  0.5894622405370077\n",
      "Epoch of best validation loss:  4\n"
     ]
    }
   ],
   "source": [
    "# keep track of training/validation loss\n",
    "train_losses = []\n",
    "valid_losses = []\n",
    "\n",
    "# train the model\n",
    "#progress bar for training\n",
    "pbar = tqdm(range(num_epochs))\n",
    "\n",
    "for epoch in pbar:\n",
    "    # keep track of training and validation loss\n",
    "    train_loss = 0.0\n",
    "    valid_loss = 0.0\n",
    "    \n",
    "    # keep track of training and validation accuracy\n",
    "    train_accuracy = 0.0\n",
    "    valid_accuracy = 0.0\n",
    "    \n",
    "    # set the model to training mode\n",
    "    model.train()\n",
    "    \n",
    "    # train the model for one epoch\n",
    "    for i, (data, labels) in enumerate(train_loader):\n",
    "        # move tensors to GPU if CUDA is available\n",
    "        if use_cuda:\n",
    "            data = data.to(device)\n",
    "            labels = labels.to(device)\n",
    "        \n",
    "        # zero out the gradients\n",
    "        optimizer.zero_grad()\n",
    "        \n",
    "        # forward pass\n",
    "        output = model(data)\n",
    "        \n",
    "        # calculate loss\n",
    "        loss = loss_fn(output, labels)\n",
    "        \n",
    "        # backpropagate\n",
    "        loss.backward()\n",
    "        \n",
    "        # update the weights\n",
    "        optimizer.step()\n",
    "        \n",
    "        # calculate the training loss\n",
    "        train_loss += loss.item()\n",
    "    \n",
    "    # set the model to evaluation mode\n",
    "    model.eval()\n",
    "    \n",
    "    # evaluate the model on the validation set\n",
    "    for i, (data, labels) in enumerate(valid_loader):\n",
    "        # move tensors to GPU if CUDA is available\n",
    "        if use_cuda:\n",
    "            data = data.to(device)\n",
    "            labels = labels.to(device)\n",
    "        \n",
    "        # validation forward pass\n",
    "        output = model(data)\n",
    "\n",
    "        # calculate the validation loss\n",
    "        valid_loss += loss_fn(output, labels).item()\n",
    "    \n",
    "    # calculate the average training loss and accuracy\n",
    "    train_loss = train_loss/len(train_loader)\n",
    "\n",
    "    # calculate the average validation loss and accuracy\n",
    "    valid_loss = valid_loss/len(valid_loader)\n",
    "\n",
    "    # ping the learning rate scheduler\n",
    "    scheduler.step(valid_loss)\n",
    "\n",
    "    # append the training and validation loss and accuracy to the lists\n",
    "    train_losses.append(train_loss)\n",
    "    valid_losses.append(valid_loss)\n",
    "\n",
    "    # if current validation loss was best so far, save the model weights in memory\n",
    "    best_valid_loss = min(valid_losses)\n",
    "    if valid_loss == best_valid_loss:\n",
    "        my_best_weights = model.state_dict() \n",
    "    \n",
    "    # display the epoch training loss\n",
    "    pbar.set_postfix({\n",
    "                    'Epoch':'{}/{}'.format(epoch+1, num_epochs), \n",
    "                    'Training Loss': '{:.4f}'.format(train_loss) , \n",
    "                    'Validation loss' : '{:.4f}'.format(valid_loss)})\n",
    "# assign the best weights to the model\n",
    "model.load_state_dict(my_best_weights)\n",
    "\n",
    "#print the epoch of the best validation loss\n",
    "print('Best validation loss: ', min(valid_losses))\n",
    "print('Epoch of best validation loss: ', valid_losses.index(min(valid_losses))+1)\n",
    "# print the model summary\n",
    "# print(model)\n"
   ]
  },
  {
   "cell_type": "code",
   "execution_count": 249,
   "metadata": {},
   "outputs": [
    {
     "data": {
      "image/png": "[encoded data removed]",
      "text/plain": [
       "<Figure size 864x576 with 1 Axes>"
      ]
     },
     "metadata": {
      "needs_background": "light"
     },
     "output_type": "display_data"
    }
   ],
   "source": [
    "# plot the training and validation loss and accuracy and a vertical line on the x-axis at the epoch of the best validation loss\n",
    "best_epoch = valid_losses.index(min(valid_losses))+1\n",
    "plt.figure(figsize=(12,8))\n",
    "plt.plot(range(1,num_epochs+1), train_losses, label='Training Loss')\n",
    "plt.plot(range(1,num_epochs+1), valid_losses, label='Validation Loss')\n",
    "plt.axvline(best_epoch, color='r', linestyle='--', label='Best Validation Loss Epoch')\n",
    "plt.xlabel('Epoch')\n",
    "plt.ylabel('Loss')\n",
    "plt.legend()\n",
    "plt.show()\n",
    "\n",
    "\n"
   ]
  },
  {
   "cell_type": "code",
   "execution_count": 250,
   "metadata": {},
   "outputs": [],
   "source": [
    "# load the model weights from file\n",
    "# model.load_state_dict(torch.load('{}.pt'.format(model_name)))"
   ]
  },
  {
   "cell_type": "code",
   "execution_count": 251,
   "metadata": {},
   "outputs": [
    {
     "name": "stdout",
     "output_type": "stream",
     "text": [
      "(1, 232)\n",
      "Prediction Range:  -2.7154317 2.1687129\n"
     ]
    },
    {
     "data": {
      "image/png": "[encoded data removed]",
      "text/plain": [
       "<Figure size 1080x360 with 3 Axes>"
      ]
     },
     "metadata": {
      "needs_background": "light"
     },
     "output_type": "display_data"
    },
    {
     "name": "stdout",
     "output_type": "stream",
     "text": [
      "Mean Squared Error:  1.0998167\n"
     ]
    },
    {
     "data": {
      "image/png": "[encoded data removed]",
      "text/plain": [
       "<Figure size 432x288 with 1 Axes>"
      ]
     },
     "metadata": {
      "needs_background": "light"
     },
     "output_type": "display_data"
    },
    {
     "name": "stdout",
     "output_type": "stream",
     "text": [
      "Correlation Coefficient:  0.6982092361624285\n"
     ]
    },
    {
     "data": {
      "image/png": "[encoded data removed]",
      "text/plain": [
       "<Figure size 432x288 with 1 Axes>"
      ]
     },
     "metadata": {
      "needs_background": "light"
     },
     "output_type": "display_data"
    },
    {
     "data": {
      "image/png": "[encoded data removed]",
      "text/plain": [
       "<Figure size 432x288 with 1 Axes>"
      ]
     },
     "metadata": {
      "needs_background": "light"
     },
     "output_type": "display_data"
    },
    {
     "name": "stdout",
     "output_type": "stream",
     "text": [
      "Highest Correlation Coefficient:  0.6740402010568385\n",
      "Lowest Correlation Coefficient:  -0.47743042402509145\n",
      "Mean Correlation Coefficient:  0.144738829885769\n",
      "Mean Correlation Coefficient:  0.144738829885769\n"
     ]
    }
   ],
   "source": [
    "model.eval()\n",
    "# display a side by side comparison of the original label and the predicted label\n",
    "def display_side_by_side(original, prediction):\n",
    "    #add title to the figure\n",
    "    fig = plt.figure(figsize=(15,5))\n",
    "    ax = fig.add_subplot(1, 3, 1)\n",
    "    ax.imshow(original)\n",
    "    ax.set_title('Original')\n",
    "    ax = fig.add_subplot(1, 3, 2)\n",
    "    ax.imshow(prediction)\n",
    "    ax.set_title('Prediction')\n",
    "    # calculate the mean squared error\n",
    "    mse = (original - prediction)**2\n",
    "    # display mse next to the other comparisons\n",
    "    ax = fig.add_subplot(1, 3, 3)\n",
    "    ax.set_title('MSE: {:.4f}'.format (mse.mean()))\n",
    "    ax.imshow(mse)\n",
    "    plt.show()\n",
    "\n",
    "# display a figure of the mean squared error between the original label and the predicted label on matplotlib\n",
    "def display_mse(original, prediction):\n",
    "    mse = np.mean((original - prediction)**2)\n",
    "    print('Mean Squared Error: ', mse)\n",
    "    plt.imshow((original - prediction)**2)\n",
    "    plt.show()\n",
    "\n",
    "print(training_labels[0].unsqueeze(0).numpy().shape)\n",
    "\n",
    "resized_original = training_labels[0].unsqueeze(0).numpy().reshape(8,29)\n",
    "resized_prediction = model(training_data[0].unsqueeze(0).to(device)).detach().cpu().numpy().reshape(8,29)\n",
    "\n",
    "#draw a correlation coefficient graph between the original label and the predicted label\n",
    "def draw_correlation_coefficient(original, prediction):\n",
    "    # calculate the correlation coefficient\n",
    "    corr_coeff = np.corrcoef(original, prediction)[0,1]\n",
    "    # display the correlation coefficient\n",
    "    print('Correlation Coefficient: ', corr_coeff)\n",
    "    # plot the correlation coefficient graph\n",
    "    plt.plot(original, prediction, 'o')\n",
    "    plt.xlabel('Original')\n",
    "    plt.ylabel('Prediction')\n",
    "    plt.title('Correlation Coefficient: {:.2f}'.format(corr_coeff))\n",
    "    plt.show()\n",
    "\n",
    "\n",
    "#print out value ranges of prediction\n",
    "print('Prediction Range: ', np.min(resized_prediction), np.max(resized_prediction))\n",
    "\n",
    "# display a side by side comparison of the original label and the predicted label\n",
    "display_side_by_side(resized_original,resized_prediction)\n",
    "display_mse(resized_original,resized_prediction)\n",
    "\n",
    "draw_correlation_coefficient(training_labels[0].unsqueeze(0).numpy(),model(training_data[0].unsqueeze(0).to(device)).detach().cpu().numpy())\n",
    "\n",
    "#find out the correlation coefficient between the original label and the predicted label for the entire dataset\n",
    "def find_correlation_coeff(valid_dataset):\n",
    "    # calculate the correlation coefficient\n",
    "    corr_coeff_list = []\n",
    "    # separate the pytorch dataset into the data and labels\n",
    "    # set the model to evaluation mode\n",
    "    model.eval()\n",
    "    \n",
    "    # evaluate the model on the validation set\n",
    "    for i, (data, labels) in enumerate(valid_loader):\n",
    "        # move tensors to GPU if CUDA is available\n",
    "        if use_cuda:\n",
    "            data = data.to(device)\n",
    "            labels = labels.to(device)\n",
    "        \n",
    "        # validation forward pass\n",
    "        output = model(data).to(device)\n",
    "        # for each image in the validation set, calculate the correlation coefficient\n",
    "        for label, prediction in zip(labels, output):\n",
    "            corr_coeff_list.append(np.corrcoef(label.cpu().numpy(), prediction.detach().cpu().numpy())[0,1])\n",
    "    # plot a histogram of the correlation coefficients\n",
    "    plt.hist(corr_coeff_list, bins=20)\n",
    "    plt.xlabel('Correlation Coefficient')\n",
    "    plt.ylabel('Count')\n",
    "    plt.title('Histogram of Correlation Coefficients')\n",
    "    plt.show()\n",
    "\n",
    "    # calculate the mean correlation coefficient\n",
    "    mean_corr_coeff = np.mean(corr_coeff_list)\n",
    "    #print the highest correlation coefficient and lowest correlation coefficient\n",
    "    print('Highest Correlation Coefficient: ', max(corr_coeff_list))\n",
    "    print('Lowest Correlation Coefficient: ', min(corr_coeff_list))\n",
    "    # display the mean correlation coefficient\n",
    "    print('Mean Correlation Coefficient: ', mean_corr_coeff)    \n",
    "\n",
    "    return mean_corr_coeff\n",
    "\n",
    "print ( 'Mean Correlation Coefficient: ', find_correlation_coeff(valid_data))"
   ]
  },
  {
   "cell_type": "code",
   "execution_count": 252,
   "metadata": {},
   "outputs": [
    {
     "name": "stdout",
     "output_type": "stream",
     "text": [
      "Validation loss:  0.6109459400177002\n"
     ]
    }
   ],
   "source": [
    "# find the loss of the model on the validation set\n",
    "valid_loss = 0.0\n",
    "\n",
    "# turn the model to evaluation mode\n",
    "model.eval()\n",
    "for i, (data, labels) in enumerate(valid_loader):\n",
    "    # move tensors to GPU if CUDA is available\n",
    "    if use_cuda:\n",
    "        data = data.to(device)\n",
    "        labels = labels.to(device)\n",
    "    \n",
    "    # validation forward pass\n",
    "    output = model(data)\n",
    "    \n",
    "    # calculate the validation loss\n",
    "    valid_loss += loss_fn(output, labels).item()\n",
    "\n",
    "valid_loss = valid_loss/len(valid_loader)\n",
    "\n",
    "# print the validation loss\n",
    "print('Validation loss: ', valid_loss)"
   ]
  },
  {
   "cell_type": "code",
   "execution_count": 253,
   "metadata": {},
   "outputs": [],
   "source": [
    "# save the model weights to a file\n",
    "torch.save(model.state_dict(), '{}.pt'.format(model_name))"
   ]
  },
  {
   "cell_type": "code",
   "execution_count": null,
   "metadata": {},
   "outputs": [],
   "source": []
  }
 ],
 "metadata": {
  "interpreter": {
   "hash": "858db3ef88a523a6ab7096da51e4abaeaf07e28ae3a8f60973ebfd64d49c1f56"
  },
  "kernelspec": {
   "display_name": "Python 3.7.10 64-bit ('algonauts': conda)",
   "language": "python",
   "name": "python3"
  },
  "language_info": {
   "codemirror_mode": {
    "name": "ipython",
    "version": 3
   },
   "file_extension": ".py",
   "mimetype": "text/x-python",
   "name": "python",
   "nbconvert_exporter": "python",
   "pygments_lexer": "ipython3",
   "version": "3.7.10"
  },
  "orig_nbformat": 4
 },
 "nbformat": 4,
 "nbformat_minor": 2
}
