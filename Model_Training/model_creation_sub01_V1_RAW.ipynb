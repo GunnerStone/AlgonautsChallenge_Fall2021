{
 "cells": [
  {
   "cell_type": "code",
   "execution_count": 2,
   "metadata": {},
   "outputs": [
    {
     "name": "stdout",
     "output_type": "stream",
     "text": [
      "CUDA available: True\n"
     ]
    }
   ],
   "source": [
    "import torch\n",
    "import numpy as np\n",
    "from torch.utils.data import TensorDataset, DataLoader\n",
    "import os\n",
    "import timm\n",
    "from tqdm.notebook import tqdm\n",
    "import matplotlib.pyplot as plt\n",
    "\n",
    "\n",
    "# define global variables / hyperparameters\n",
    "batch_size = 32\n",
    "num_epochs = 100\n",
    "learning_rate = 0.001\n",
    "\n",
    "# detect if GPU/CPU device\n",
    "use_cuda = torch.cuda.is_available()\n",
    "print('CUDA available:', use_cuda)\n",
    "\n",
    "# set RNG seed for reproducibility\n",
    "seed = 1\n",
    "torch.manual_seed(seed)\n",
    "np.random.seed(seed)\n",
    "\n",
    "# setup gpu things\n",
    "dtype = 'float32' if use_cuda else 'float64' # GPU does better with float32 numbers\n",
    "torchtype = {'float32': torch.float32, 'float64': torch.float64}[dtype]\n",
    "device = torch.device(\"cuda:0\" if torch.cuda.is_available() else \"cpu\")\n"
   ]
  },
  {
   "cell_type": "code",
   "execution_count": 3,
   "metadata": {},
   "outputs": [
    {
     "name": "stdout",
     "output_type": "stream",
     "text": [
      "Number of training samples:  768\n",
      "Number of voxel activations (classes):  232\n",
      "training_data tensor dims: torch.Size([768, 225, 32, 32])\n"
     ]
    }
   ],
   "source": [
    "# Training a RNN with PyTorch for roi V1 with RAW data\n",
    "\n",
    "# Load the entire training data into main memory\n",
    "# This is a huge dataset, so we need to do this in chunks\n",
    "\n",
    "#isolate subject of interests' data\n",
    "num_subjects = 10\n",
    "soi = 'sub01'\n",
    "\n",
    "# read in every npy file in the directory Gunners_training_data/V1/RAW and store them in a list \n",
    "training_data = []\n",
    "training_labels = []\n",
    "\n",
    "# load in every Nth file in the directory\n",
    "culling_scale = 1\n",
    "\n",
    "# for each file in the directory\n",
    "for i, file in enumerate(os.listdir('../Gunners_training_data/V1/RAW')):\n",
    "    # if the file name contains the soi string\n",
    "    if not soi in file:\n",
    "        continue\n",
    "    # if the file is a .npy file\n",
    "    if file.endswith('.npy'):\n",
    "        # read in the file\n",
    "        data = np.load('../Gunners_training_data/V1/RAW/' + file, allow_pickle=True)\n",
    "        \n",
    "        # for each sample, make sure its dimensions are 32x32x225, if not then skip it\n",
    "        if data[0][0].shape != (32,32,225):\n",
    "            continue\n",
    "\n",
    "        # for each sample, add the data to the training_data list\n",
    "        training_data.append(data[0][0])\n",
    "        # for each sample, add the label to the training_labels list\n",
    "        training_labels.append(data[0][1])\n",
    "\n",
    "print('Number of training samples: ', len(training_data))\n",
    "num_classes = training_labels[0].shape[0]\n",
    "print('Number of voxel activations (classes): ', num_classes)\n",
    "    \n",
    "# verify the data is loaded correctly\n",
    "training_data = np.array(training_data)\n",
    "training_labels = np.array(training_labels)\n",
    "\n",
    "# convert the lists to float 32 tensors\n",
    "training_data = torch.tensor(training_data).type(torchtype)\n",
    "training_labels = torch.tensor(training_labels).type(torchtype)\n",
    "\n",
    "# permute the data so that the first dimension is the number of samples, the second is the number of channels\n",
    "training_data = training_data.permute(0,3,1,2)\n",
    "\n",
    "#print the dims of training_data tensor\n",
    "print('training_data tensor dims:', training_data.shape)\n",
    "\n",
    "# create a dataset from the tensors\n",
    "my_dataset = TensorDataset(training_data,training_labels) # create your datset\n",
    "\n",
    "# split the data into training and validation sets\n",
    "train_size = int(0.8 * len(training_data))\n",
    "valid_size = len(training_data) - train_size\n",
    "\n",
    "# create training and validation sets\n",
    "train_data, valid_data = torch.utils.data.random_split(my_dataset, [train_size, valid_size])\n",
    "\n",
    "# create training and validation dataloaders\n",
    "train_loader = DataLoader(train_data, batch_size = batch_size, shuffle=True)\n",
    "valid_loader = DataLoader(valid_data, batch_size = batch_size, shuffle=True)\n"
   ]
  },
  {
   "cell_type": "code",
   "execution_count": 4,
   "metadata": {},
   "outputs": [
    {
     "name": "stderr",
     "output_type": "stream",
     "text": [
      "Downloading: \"https://github.com/rwightman/pytorch-image-models/releases/download/v0.1-rs-weights/resnetrs50_ema-6b53758b.pth\" to C:\\Users\\gunnerstone/.cache\\torch\\hub\\checkpoints\\resnetrs50_ema-6b53758b.pth\n"
     ]
    }
   ],
   "source": [
    "# define RNN model with 255 channels\n",
    "model = timm.create_model('resnetrs50', num_classes=num_classes, in_chans=225, pretrained=True).to(device)\n",
    "# make the model use floats\n",
    "model.float()\n",
    "\n",
    "# define optimizer\n",
    "optimizer = torch.optim.Adam(model.parameters(), lr=learning_rate)\n",
    "\n",
    "# scheduler for Learning Rate\n",
    "scheduler = torch.optim.lr_scheduler.ReduceLROnPlateau(optimizer, 'min', patience=2, verbose=True)\n",
    "\n",
    "# define loss function for multi-variable regression\n",
    "loss_fn = torch.nn.MSELoss()\n"
   ]
  },
  {
   "cell_type": "code",
   "execution_count": null,
   "metadata": {},
   "outputs": [],
   "source": [
    "# keep track of training/validation loss\n",
    "train_losses = []\n",
    "valid_losses = []\n",
    "\n",
    "# train the model\n",
    "#progress bar for training\n",
    "pbar = tqdm(range(num_epochs))\n",
    "\n",
    "for epoch in pbar:\n",
    "    # keep track of training and validation loss\n",
    "    train_loss = 0.0\n",
    "    valid_loss = 0.0\n",
    "    \n",
    "    # keep track of training and validation accuracy\n",
    "    train_accuracy = 0.0\n",
    "    valid_accuracy = 0.0\n",
    "    \n",
    "    # set the model to training mode\n",
    "    model.train()\n",
    "    \n",
    "    # train the model for one epoch\n",
    "    for i, (data, labels) in enumerate(train_loader):\n",
    "        # move tensors to GPU if CUDA is available\n",
    "        if use_cuda:\n",
    "            data = data.to(device)\n",
    "            labels = labels.to(device)\n",
    "        \n",
    "        # zero out the gradients\n",
    "        optimizer.zero_grad()\n",
    "        \n",
    "        # forward pass\n",
    "        output = model(data)\n",
    "        \n",
    "        # calculate loss\n",
    "        loss = loss_fn(output, labels)\n",
    "        \n",
    "        # backpropagate\n",
    "        loss.backward()\n",
    "        \n",
    "        # update the weights\n",
    "        optimizer.step()\n",
    "        \n",
    "        # calculate the training loss\n",
    "        train_loss += loss.item()\n",
    "    \n",
    "    # set the model to evaluation mode\n",
    "    model.eval()\n",
    "    \n",
    "    # evaluate the model on the validation set\n",
    "    for i, (data, labels) in enumerate(valid_loader):\n",
    "        # move tensors to GPU if CUDA is available\n",
    "        if use_cuda:\n",
    "            data = data.to(device)\n",
    "            labels = labels.to(device)\n",
    "        \n",
    "        # validation forward pass\n",
    "        output = model(data)\n",
    "\n",
    "        # calculate the validation loss\n",
    "        valid_loss += loss_fn(output, labels).item()\n",
    "    \n",
    "    # calculate the average training loss and accuracy\n",
    "    train_loss = train_loss/len(train_loader)\n",
    "\n",
    "    # calculate the average validation loss and accuracy\n",
    "    valid_loss = valid_loss/len(valid_loader)\n",
    "\n",
    "    # ping the learning rate scheduler\n",
    "    scheduler.step(valid_loss)\n",
    "\n",
    "    # append the training and validation loss and accuracy to the lists\n",
    "    train_losses.append(train_loss)\n",
    "    valid_losses.append(valid_loss)\n",
    "\n",
    "    # if current validation loss was best so far, save the model weights in memory\n",
    "    best_valid_loss = min(valid_losses)\n",
    "    if valid_loss == best_valid_loss:\n",
    "        my_best_weights = model.state_dict() \n",
    "    \n",
    "    # display the epoch training loss\n",
    "    pbar.set_postfix({\n",
    "                    'Epoch':'{}/{}'.format(epoch+1, num_epochs), \n",
    "                    'Training Loss': '{:.4f}'.format(train_loss) , \n",
    "                    'Validation loss' : '{:.4f}'.format(valid_loss)})\n",
    "# assign the best weights to the model\n",
    "model.load_state_dict(my_best_weights)\n",
    "\n",
    "#print the epoch of the best validation loss\n",
    "print('Best validation loss: ', min(valid_losses))\n",
    "print('Epoch of best validation loss: ', valid_losses.index(min(valid_losses))+1)\n",
    "# print the model summary\n",
    "# print(model)\n"
   ]
  },
  {
   "cell_type": "code",
   "execution_count": 6,
   "metadata": {},
   "outputs": [
    {
     "data": {
      "image/png": "[encoded data removed]",
      "text/plain": [
       "<Figure size 864x576 with 1 Axes>"
      ]
     },
     "metadata": {
      "needs_background": "light"
     },
     "output_type": "display_data"
    }
   ],
   "source": [
    "# plot the training and validation loss and accuracy and a vertical line on the x-axis at the epoch of the best validation loss\n",
    "best_epoch = valid_losses.index(min(valid_losses))+1\n",
    "plt.figure(figsize=(12,8))\n",
    "plt.plot(range(1,num_epochs+1), train_losses, label='Training Loss')\n",
    "plt.plot(range(1,num_epochs+1), valid_losses, label='Validation Loss')\n",
    "plt.axvline(best_epoch, color='r', linestyle='--', label='Best Validation Loss Epoch')\n",
    "plt.xlabel('Epoch')\n",
    "plt.ylabel('Loss')\n",
    "plt.legend()\n",
    "plt.show()\n",
    "\n",
    "\n"
   ]
  },
  {
   "cell_type": "code",
   "execution_count": 7,
   "metadata": {},
   "outputs": [
    {
     "name": "stdout",
     "output_type": "stream",
     "text": [
      "(1, 232)\n"
     ]
    },
    {
     "data": {
      "image/png": "[encoded data removed]",
      "text/plain": [
       "<Figure size 720x360 with 2 Axes>"
      ]
     },
     "metadata": {
      "needs_background": "light"
     },
     "output_type": "display_data"
    },
    {
     "name": "stdout",
     "output_type": "stream",
     "text": [
      "Mean Squared Error:  0.15113275\n"
     ]
    },
    {
     "data": {
      "image/png": "[encoded data removed]",
      "text/plain": [
       "<Figure size 432x288 with 1 Axes>"
      ]
     },
     "metadata": {
      "needs_background": "light"
     },
     "output_type": "display_data"
    }
   ],
   "source": [
    "# display a side by side comparison of the original label and the predicted label\n",
    "def display_side_by_side(original, prediction):\n",
    "    fig = plt.figure(figsize=(10,5))\n",
    "    ax = fig.add_subplot(1, 2, 1)\n",
    "    ax.imshow(original)\n",
    "    ax.set_title('Original')\n",
    "    ax = fig.add_subplot(1, 2, 2)\n",
    "    ax.imshow(prediction)\n",
    "    ax.set_title('Prediction')\n",
    "    plt.show()\n",
    "\n",
    "# display a figure of the mean squared error between the original label and the predicted label on matplotlib\n",
    "def display_mse(original, prediction):\n",
    "    mse = np.mean((original - prediction)**2)\n",
    "    print('Mean Squared Error: ', mse)\n",
    "    plt.imshow((original - prediction)**2)\n",
    "    plt.show()\n",
    "\n",
    "print(training_labels[0].unsqueeze(0).numpy().shape)\n",
    "\n",
    "resized_original = training_labels[0].unsqueeze(0).numpy().reshape(8,29)\n",
    "resized_prediction = model(training_data[0].unsqueeze(0).to(device)).detach().cpu().numpy().reshape(8,29)\n",
    "\n",
    "# display a side by side comparison of the original label and the predicted label\n",
    "display_side_by_side(resized_original,resized_prediction)\n",
    "display_mse(resized_original,resized_prediction)"
   ]
  },
  {
   "cell_type": "code",
   "execution_count": null,
   "metadata": {},
   "outputs": [],
   "source": []
  }
 ],
 "metadata": {
  "interpreter": {
   "hash": "858db3ef88a523a6ab7096da51e4abaeaf07e28ae3a8f60973ebfd64d49c1f56"
  },
  "kernelspec": {
   "display_name": "Python 3.7.10 64-bit ('algonauts': conda)",
   "language": "python",
   "name": "python3"
  },
  "language_info": {
   "codemirror_mode": {
    "name": "ipython",
    "version": 3
   },
   "file_extension": ".py",
   "mimetype": "text/x-python",
   "name": "python",
   "nbconvert_exporter": "python",
   "pygments_lexer": "ipython3",
   "version": "3.7.10"
  },
  "orig_nbformat": 4
 },
 "nbformat": 4,
 "nbformat_minor": 2
}
